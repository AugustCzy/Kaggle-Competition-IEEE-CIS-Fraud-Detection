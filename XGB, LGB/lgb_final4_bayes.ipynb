{
 "cells": [
  {
   "cell_type": "code",
   "execution_count": 1,
   "metadata": {},
   "outputs": [],
   "source": [
    "import pandas as pd\n",
    "import numpy as np\n",
    "import warnings\n",
    "import matplotlib.pyplot as plt\n",
    "import seaborn as sns\n",
    "import lightgbm as lgb\n",
    "import gc\n",
    "from time import time\n",
    "import datetime\n",
    "from sklearn.preprocessing import LabelEncoder\n",
    "from sklearn.model_selection import KFold, TimeSeriesSplit\n",
    "from sklearn.metrics import roc_auc_score\n",
    "warnings.simplefilter('ignore')\n",
    "sns.set()\n",
    "%matplotlib inline\n",
    "import os, sys, gc, warnings, random, datetime"
   ]
  },
  {
   "cell_type": "code",
   "execution_count": 2,
   "metadata": {},
   "outputs": [],
   "source": [
    "train=pd.read_csv('train_final4.csv')\n",
    "test=pd.read_csv('test_final4.csv')"
   ]
  },
  {
   "cell_type": "code",
   "execution_count": 3,
   "metadata": {},
   "outputs": [
    {
     "data": {
      "text/plain": [
       "DT                 object\n",
       "addr1_card1        object\n",
       "card2_and_count    object\n",
       "dtype: object"
      ]
     },
     "execution_count": 3,
     "metadata": {},
     "output_type": "execute_result"
    }
   ],
   "source": [
    "obj_cols = train.dtypes\n",
    "obj_cols[obj_cols=='object']"
   ]
  },
  {
   "cell_type": "code",
   "execution_count": 4,
   "metadata": {},
   "outputs": [],
   "source": [
    "train['card2_and_count']=pd.to_numeric(train['card2_and_count'],errors='coerce')\n",
    "train['addr1_card1']=pd.to_numeric(train['addr1_card1'],errors='coerce')"
   ]
  },
  {
   "cell_type": "code",
   "execution_count": 5,
   "metadata": {},
   "outputs": [],
   "source": [
    "test['card2_and_count']=pd.to_numeric(test['card2_and_count'],errors='coerce')\n",
    "test['addr1_card1']=pd.to_numeric(test['addr1_card1'],errors='coerce')"
   ]
  },
  {
   "cell_type": "code",
   "execution_count": 6,
   "metadata": {},
   "outputs": [],
   "source": [
    "split_groups = train['DT_M']"
   ]
  },
  {
   "cell_type": "code",
   "execution_count": 7,
   "metadata": {},
   "outputs": [],
   "source": [
    "X= train.drop(['TransactionDT','TransactionID','uid','uid2','bank_type',\n",
    "               'isFraud','DT','DT_M','DT_W','DT_D','DT_hour','DT_day_week','DT_day_month'], axis=1)\n",
    "y = train['isFraud']"
   ]
  },
  {
   "cell_type": "code",
   "execution_count": 8,
   "metadata": {},
   "outputs": [
    {
     "data": {
      "text/plain": [
       "(590540, 949)"
      ]
     },
     "execution_count": 8,
     "metadata": {},
     "output_type": "execute_result"
    }
   ],
   "source": [
    "X.shape"
   ]
  },
  {
   "cell_type": "code",
   "execution_count": 9,
   "metadata": {},
   "outputs": [],
   "source": [
    "X_test = test.drop(['TransactionDT','TransactionID','uid','uid2','bank_type',\n",
    "                    'isFraud','DT','DT_M','DT_W','DT_D','DT_hour','DT_day_week','DT_day_month'], axis=1)"
   ]
  },
  {
   "cell_type": "code",
   "execution_count": 10,
   "metadata": {},
   "outputs": [
    {
     "data": {
      "text/plain": [
       "(506691, 949)"
      ]
     },
     "execution_count": 10,
     "metadata": {},
     "output_type": "execute_result"
    }
   ],
   "source": [
    "X_test.shape"
   ]
  },
  {
   "cell_type": "code",
   "execution_count": 11,
   "metadata": {},
   "outputs": [
    {
     "data": {
      "text/plain": [
       "82"
      ]
     },
     "execution_count": 11,
     "metadata": {},
     "output_type": "execute_result"
    }
   ],
   "source": [
    "del train, test\n",
    "gc.collect()"
   ]
  },
  {
   "cell_type": "code",
   "execution_count": 12,
   "metadata": {},
   "outputs": [],
   "source": [
    "from sklearn.model_selection import GroupKFold\n",
    "NFOLDS = 5\n",
    "folds = GroupKFold(n_splits=NFOLDS)\n",
    "splits = folds.split(X, y, groups=split_groups)"
   ]
  },
  {
   "cell_type": "code",
   "execution_count": 13,
   "metadata": {},
   "outputs": [],
   "source": [
    "for fold_n, (train_index, valid_index) in enumerate(splits):\n",
    "    train_index_df=pd.DataFrame(train_index,columns=['train_index'])\n",
    "    valid_index_df=pd.DataFrame(valid_index,columns=['valid_index'])\n",
    "    del train_index, valid_index\n",
    "    gc.collect()"
   ]
  },
  {
   "cell_type": "code",
   "execution_count": 14,
   "metadata": {},
   "outputs": [
    {
     "data": {
      "text/plain": [
       "(420864, 1)"
      ]
     },
     "execution_count": 14,
     "metadata": {},
     "output_type": "execute_result"
    }
   ],
   "source": [
    "train_index_df.shape"
   ]
  },
  {
   "cell_type": "code",
   "execution_count": 15,
   "metadata": {},
   "outputs": [
    {
     "data": {
      "text/plain": [
       "(169676, 1)"
      ]
     },
     "execution_count": 15,
     "metadata": {},
     "output_type": "execute_result"
    }
   ],
   "source": [
    "valid_index_df.shape"
   ]
  },
  {
   "cell_type": "code",
   "execution_count": 16,
   "metadata": {},
   "outputs": [],
   "source": [
    "#no_contribution_feature:根据上次结果而来，不一定是这些"
   ]
  },
  {
   "cell_type": "code",
   "execution_count": 17,
   "metadata": {},
   "outputs": [],
   "source": [
    "no_contribution_feature=['V117', 'R_isproton', 'V119', 'V68', 'V305', 'NA_V12_V34','addr1_card1','V241','id_27',\n",
    "                         'V240','V120','NA_V138_V166','V89','NA_V75_V94','V107','P_isproton','V27','V122',\n",
    "                         'id_35_count_dist','NA_V95_V137','NA_V53_V74','id_22__count_encoding',\n",
    "                         'NA_V35_V54','NA_V322_V339','NA_V279_V321','id_27__count_encoding','NA_V1_V11',\n",
    "                         'NA_V167_V216','V28']"
   ]
  },
  {
   "cell_type": "code",
   "execution_count": 18,
   "metadata": {},
   "outputs": [],
   "source": [
    "X2=X.drop(no_contribution_feature, axis=1)"
   ]
  },
  {
   "cell_type": "code",
   "execution_count": 19,
   "metadata": {},
   "outputs": [
    {
     "data": {
      "text/plain": [
       "(590540, 920)"
      ]
     },
     "execution_count": 19,
     "metadata": {},
     "output_type": "execute_result"
    }
   ],
   "source": [
    "X2.shape"
   ]
  },
  {
   "cell_type": "code",
   "execution_count": 20,
   "metadata": {},
   "outputs": [],
   "source": [
    "X_test2=X_test.drop(no_contribution_feature, axis=1)"
   ]
  },
  {
   "cell_type": "code",
   "execution_count": 21,
   "metadata": {},
   "outputs": [
    {
     "data": {
      "text/plain": [
       "(506691, 920)"
      ]
     },
     "execution_count": 21,
     "metadata": {},
     "output_type": "execute_result"
    }
   ],
   "source": [
    "X_test2.shape"
   ]
  },
  {
   "cell_type": "code",
   "execution_count": 22,
   "metadata": {},
   "outputs": [
    {
     "data": {
      "text/plain": [
       "34"
      ]
     },
     "execution_count": 22,
     "metadata": {},
     "output_type": "execute_result"
    }
   ],
   "source": [
    "del X, X_test\n",
    "gc.collect()"
   ]
  },
  {
   "cell_type": "code",
   "execution_count": 23,
   "metadata": {},
   "outputs": [],
   "source": [
    "from bayes_opt import BayesianOptimization"
   ]
  },
  {
   "cell_type": "code",
   "execution_count": 36,
   "metadata": {},
   "outputs": [],
   "source": [
    "train_index=train_index_df['train_index']\n",
    "valid_index=valid_index_df['valid_index']"
   ]
  },
  {
   "cell_type": "code",
   "execution_count": 37,
   "metadata": {},
   "outputs": [],
   "source": [
    "X_train, X_valid = X2.iloc[train_index], X2.iloc[valid_index]\n",
    "y_train, y_valid = y.iloc[train_index], y.iloc[valid_index]"
   ]
  },
  {
   "cell_type": "code",
   "execution_count": 38,
   "metadata": {},
   "outputs": [
    {
     "data": {
      "text/plain": [
       "(420864, 920)"
      ]
     },
     "execution_count": 38,
     "metadata": {},
     "output_type": "execute_result"
    }
   ],
   "source": [
    "X_train.shape"
   ]
  },
  {
   "cell_type": "code",
   "execution_count": 39,
   "metadata": {},
   "outputs": [
    {
     "data": {
      "text/plain": [
       "(169676, 920)"
      ]
     },
     "execution_count": 39,
     "metadata": {},
     "output_type": "execute_result"
    }
   ],
   "source": [
    "X_valid.shape"
   ]
  },
  {
   "cell_type": "code",
   "execution_count": 40,
   "metadata": {},
   "outputs": [
    {
     "data": {
      "text/plain": [
       "(420864,)"
      ]
     },
     "execution_count": 40,
     "metadata": {},
     "output_type": "execute_result"
    }
   ],
   "source": [
    "y_train.shape"
   ]
  },
  {
   "cell_type": "code",
   "execution_count": 41,
   "metadata": {},
   "outputs": [
    {
     "data": {
      "text/plain": [
       "(169676,)"
      ]
     },
     "execution_count": 41,
     "metadata": {},
     "output_type": "execute_result"
    }
   ],
   "source": [
    "y_valid.shape"
   ]
  },
  {
   "cell_type": "code",
   "execution_count": 42,
   "metadata": {},
   "outputs": [],
   "source": [
    "def LGB_bayesian(\n",
    "    num_leaves, \n",
    "    bagging_fraction,\n",
    "    feature_fraction,\n",
    "    min_child_weight,\n",
    "    min_data_in_leaf,\n",
    "    max_depth,\n",
    "    reg_alpha,\n",
    "    reg_lambda\n",
    "     ):\n",
    "    \n",
    "    # LightGBM expects next three parameters need to be integer. \n",
    "    num_leaves = int(num_leaves)\n",
    "    min_data_in_leaf = int(min_data_in_leaf)\n",
    "    max_depth = int(max_depth)\n",
    "\n",
    "    assert type(num_leaves) == int\n",
    "    assert type(min_data_in_leaf) == int\n",
    "    assert type(max_depth) == int\n",
    "    y_oof = np.zeros(X_valid.shape[0])\n",
    "\n",
    "    param = {\n",
    "              'num_leaves': num_leaves, \n",
    "              'min_data_in_leaf': min_data_in_leaf,\n",
    "              'min_child_weight': min_child_weight,\n",
    "              'bagging_fraction' : bagging_fraction,\n",
    "              'feature_fraction' : feature_fraction,\n",
    "              'max_depth': max_depth,\n",
    "              'reg_alpha': reg_alpha,\n",
    "              'reg_lambda': reg_lambda,\n",
    "              'objective': 'binary',\n",
    "              'max_bin':255,\n",
    "              'random_state': 47,\n",
    "              'learning_rate': 0.005,\n",
    "              'boosting_type': 'gbdt',\n",
    "              'bagging_seed': 11,\n",
    "              'tree_learner':'serial',\n",
    "              'verbosity': -1,\n",
    "              'metric':'auc'}    \n",
    "    \n",
    "    trn_data= lgb.Dataset(X_train, label=y_train)\n",
    "    val_data= lgb.Dataset(X_valid, label=y_valid)\n",
    "\n",
    "    clf = lgb.train(param, trn_data,  num_boost_round=10000, valid_sets = [trn_data, val_data], verbose_eval=200, early_stopping_rounds = 500)\n",
    "    \n",
    "    y_oof = clf.predict(X_valid, num_iteration=clf.best_iteration)  \n",
    "    \n",
    "    score = roc_auc_score(y_valid, y_oof)\n",
    "\n",
    "    return score"
   ]
  },
  {
   "cell_type": "code",
   "execution_count": 43,
   "metadata": {},
   "outputs": [],
   "source": [
    "bounds_LGB = {\n",
    "    'num_leaves': (400, 600), \n",
    "    'min_data_in_leaf': (50,150),\n",
    "    'bagging_fraction' : (0.2,0.9),\n",
    "    'feature_fraction' : (0.2,0.9),\n",
    "    'min_child_weight': (0.01, 0.1),   \n",
    "    'reg_alpha': (0.3, 1), \n",
    "    'reg_lambda': (0.3, 1),\n",
    "    'max_depth':(-1,15),\n",
    "}"
   ]
  },
  {
   "cell_type": "code",
   "execution_count": 44,
   "metadata": {},
   "outputs": [],
   "source": [
    "LGB_BO = BayesianOptimization(LGB_bayesian, bounds_LGB)"
   ]
  },
  {
   "cell_type": "code",
   "execution_count": 45,
   "metadata": {},
   "outputs": [
    {
     "name": "stdout",
     "output_type": "stream",
     "text": [
      "['bagging_fraction', 'feature_fraction', 'max_depth', 'min_child_weight', 'min_data_in_leaf', 'num_leaves', 'reg_alpha', 'reg_lambda']\n"
     ]
    }
   ],
   "source": [
    "print(LGB_BO.space.keys)"
   ]
  },
  {
   "cell_type": "code",
   "execution_count": 46,
   "metadata": {},
   "outputs": [],
   "source": [
    "init_points = 3 #5\n",
    "n_iter = 7 # 15"
   ]
  },
  {
   "cell_type": "code",
   "execution_count": 47,
   "metadata": {},
   "outputs": [
    {
     "name": "stdout",
     "output_type": "stream",
     "text": [
      "----------------------------------------------------------------------------------------------------------------------------------\n",
      "|   iter    |  target   | baggin... | featur... | max_depth | min_ch... | min_da... | num_le... | reg_alpha | reg_la... |\n",
      "-------------------------------------------------------------------------------------------------------------------------\n",
      "Training until validation scores don't improve for 500 rounds.\n",
      "[200]\ttraining's auc: 0.871188\tvalid_1's auc: 0.864332\n",
      "[400]\ttraining's auc: 0.887747\tvalid_1's auc: 0.8794\n",
      "[600]\ttraining's auc: 0.896555\tvalid_1's auc: 0.887017\n",
      "[800]\ttraining's auc: 0.90265\tvalid_1's auc: 0.891787\n",
      "[1000]\ttraining's auc: 0.907244\tvalid_1's auc: 0.89498\n",
      "[1200]\ttraining's auc: 0.911164\tvalid_1's auc: 0.897788\n",
      "[1400]\ttraining's auc: 0.914281\tvalid_1's auc: 0.899865\n",
      "[1600]\ttraining's auc: 0.916985\tvalid_1's auc: 0.901677\n",
      "[1800]\ttraining's auc: 0.91953\tvalid_1's auc: 0.903417\n",
      "[2000]\ttraining's auc: 0.92177\tvalid_1's auc: 0.904984\n",
      "[2200]\ttraining's auc: 0.923858\tvalid_1's auc: 0.906426\n",
      "[2400]\ttraining's auc: 0.925819\tvalid_1's auc: 0.907792\n",
      "[2600]\ttraining's auc: 0.927691\tvalid_1's auc: 0.90901\n",
      "[2800]\ttraining's auc: 0.929468\tvalid_1's auc: 0.910227\n",
      "[3000]\ttraining's auc: 0.931077\tvalid_1's auc: 0.911329\n",
      "[3200]\ttraining's auc: 0.932523\tvalid_1's auc: 0.912349\n",
      "[3400]\ttraining's auc: 0.933841\tvalid_1's auc: 0.913177\n",
      "[3600]\ttraining's auc: 0.935172\tvalid_1's auc: 0.914094\n",
      "[3800]\ttraining's auc: 0.936479\tvalid_1's auc: 0.914863\n",
      "[4000]\ttraining's auc: 0.937674\tvalid_1's auc: 0.915617\n",
      "[4200]\ttraining's auc: 0.93895\tvalid_1's auc: 0.916425\n",
      "[4400]\ttraining's auc: 0.940094\tvalid_1's auc: 0.917143\n",
      "[4600]\ttraining's auc: 0.941162\tvalid_1's auc: 0.917728\n",
      "[4800]\ttraining's auc: 0.942175\tvalid_1's auc: 0.918337\n",
      "[5000]\ttraining's auc: 0.943252\tvalid_1's auc: 0.918942\n",
      "[5200]\ttraining's auc: 0.944216\tvalid_1's auc: 0.919472\n",
      "[5400]\ttraining's auc: 0.94514\tvalid_1's auc: 0.919973\n",
      "[5600]\ttraining's auc: 0.946156\tvalid_1's auc: 0.920554\n",
      "[5800]\ttraining's auc: 0.947162\tvalid_1's auc: 0.921136\n",
      "[6000]\ttraining's auc: 0.948132\tvalid_1's auc: 0.921742\n",
      "[6200]\ttraining's auc: 0.949132\tvalid_1's auc: 0.922336\n",
      "[6400]\ttraining's auc: 0.950004\tvalid_1's auc: 0.92277\n",
      "[6600]\ttraining's auc: 0.950877\tvalid_1's auc: 0.92326\n",
      "[6800]\ttraining's auc: 0.951746\tvalid_1's auc: 0.923711\n",
      "[7000]\ttraining's auc: 0.952598\tvalid_1's auc: 0.924181\n",
      "[7200]\ttraining's auc: 0.953438\tvalid_1's auc: 0.924639\n",
      "[7400]\ttraining's auc: 0.954257\tvalid_1's auc: 0.925055\n",
      "[7600]\ttraining's auc: 0.95501\tvalid_1's auc: 0.92547\n",
      "[7800]\ttraining's auc: 0.955715\tvalid_1's auc: 0.925806\n",
      "[8000]\ttraining's auc: 0.956466\tvalid_1's auc: 0.926116\n",
      "[8200]\ttraining's auc: 0.957212\tvalid_1's auc: 0.926489\n",
      "[8400]\ttraining's auc: 0.957941\tvalid_1's auc: 0.926821\n",
      "[8600]\ttraining's auc: 0.958615\tvalid_1's auc: 0.927188\n",
      "[8800]\ttraining's auc: 0.959329\tvalid_1's auc: 0.927489\n",
      "[9000]\ttraining's auc: 0.960023\tvalid_1's auc: 0.927838\n",
      "[9200]\ttraining's auc: 0.960598\tvalid_1's auc: 0.928065\n",
      "[9400]\ttraining's auc: 0.961225\tvalid_1's auc: 0.928358\n",
      "[9600]\ttraining's auc: 0.96187\tvalid_1's auc: 0.928694\n",
      "[9800]\ttraining's auc: 0.962495\tvalid_1's auc: 0.928974\n",
      "[10000]\ttraining's auc: 0.963077\tvalid_1's auc: 0.929266\n",
      "Did not meet early stopping. Best iteration is:\n",
      "[10000]\ttraining's auc: 0.963077\tvalid_1's auc: 0.929266\n",
      "| \u001b[0m 1       \u001b[0m | \u001b[0m 0.9293  \u001b[0m | \u001b[0m 0.7142  \u001b[0m | \u001b[0m 0.4606  \u001b[0m | \u001b[0m 4.157   \u001b[0m | \u001b[0m 0.05847 \u001b[0m | \u001b[0m 139.6   \u001b[0m | \u001b[0m 482.5   \u001b[0m | \u001b[0m 0.8132  \u001b[0m | \u001b[0m 0.6911  \u001b[0m |\n",
      "Training until validation scores don't improve for 500 rounds.\n",
      "[200]\ttraining's auc: 0.961144\tvalid_1's auc: 0.924355\n",
      "[400]\ttraining's auc: 0.982358\tvalid_1's auc: 0.936821\n",
      "[600]\ttraining's auc: 0.991868\tvalid_1's auc: 0.943682\n",
      "[800]\ttraining's auc: 0.995132\tvalid_1's auc: 0.947184\n",
      "[1000]\ttraining's auc: 0.996665\tvalid_1's auc: 0.948774\n",
      "[1200]\ttraining's auc: 0.997681\tvalid_1's auc: 0.949458\n",
      "[1400]\ttraining's auc: 0.998394\tvalid_1's auc: 0.949731\n",
      "[1600]\ttraining's auc: 0.998952\tvalid_1's auc: 0.949951\n",
      "[1800]\ttraining's auc: 0.999322\tvalid_1's auc: 0.950029\n",
      "[2000]\ttraining's auc: 0.999552\tvalid_1's auc: 0.949934\n",
      "[2200]\ttraining's auc: 0.9997\tvalid_1's auc: 0.949771\n",
      "Early stopping, best iteration is:\n",
      "[1758]\ttraining's auc: 0.999261\tvalid_1's auc: 0.950053\n",
      "| \u001b[95m 2       \u001b[0m | \u001b[95m 0.9501  \u001b[0m | \u001b[95m 0.5461  \u001b[0m | \u001b[95m 0.4408  \u001b[0m | \u001b[95m 13.87   \u001b[0m | \u001b[95m 0.01367 \u001b[0m | \u001b[95m 75.59   \u001b[0m | \u001b[95m 547.8   \u001b[0m | \u001b[95m 0.703   \u001b[0m | \u001b[95m 0.8934  \u001b[0m |\n",
      "Training until validation scores don't improve for 500 rounds.\n",
      "[200]\ttraining's auc: 0.948308\tvalid_1's auc: 0.915787\n",
      "[400]\ttraining's auc: 0.973643\tvalid_1's auc: 0.931587\n",
      "[600]\ttraining's auc: 0.985267\tvalid_1's auc: 0.939332\n",
      "[800]\ttraining's auc: 0.990119\tvalid_1's auc: 0.943134\n",
      "[1000]\ttraining's auc: 0.992612\tvalid_1's auc: 0.945058\n",
      "[1200]\ttraining's auc: 0.99446\tvalid_1's auc: 0.946191\n",
      "[1400]\ttraining's auc: 0.995741\tvalid_1's auc: 0.946694\n",
      "[1600]\ttraining's auc: 0.996713\tvalid_1's auc: 0.946998\n",
      "[1800]\ttraining's auc: 0.997486\tvalid_1's auc: 0.94721\n",
      "[2000]\ttraining's auc: 0.998183\tvalid_1's auc: 0.947291\n",
      "[2200]\ttraining's auc: 0.998725\tvalid_1's auc: 0.947333\n",
      "[2400]\ttraining's auc: 0.999115\tvalid_1's auc: 0.947182\n",
      "[2600]\ttraining's auc: 0.99936\tvalid_1's auc: 0.946957\n",
      "Early stopping, best iteration is:\n",
      "[2157]\ttraining's auc: 0.99864\tvalid_1's auc: 0.947397\n",
      "| \u001b[0m 3       \u001b[0m | \u001b[0m 0.9474  \u001b[0m | \u001b[0m 0.5996  \u001b[0m | \u001b[0m 0.7325  \u001b[0m | \u001b[0m 11.2    \u001b[0m | \u001b[0m 0.09653 \u001b[0m | \u001b[0m 51.45   \u001b[0m | \u001b[0m 419.2   \u001b[0m | \u001b[0m 0.5717  \u001b[0m | \u001b[0m 0.592   \u001b[0m |\n",
      "Training until validation scores don't improve for 500 rounds.\n",
      "[200]\ttraining's auc: 0.974567\tvalid_1's auc: 0.932145\n",
      "[400]\ttraining's auc: 0.990165\tvalid_1's auc: 0.941772\n",
      "[600]\ttraining's auc: 0.99725\tvalid_1's auc: 0.947582\n",
      "[800]\ttraining's auc: 0.999353\tvalid_1's auc: 0.950726\n",
      "[1000]\ttraining's auc: 0.999866\tvalid_1's auc: 0.952363\n",
      "[1200]\ttraining's auc: 0.999976\tvalid_1's auc: 0.953341\n",
      "[1400]\ttraining's auc: 0.999997\tvalid_1's auc: 0.95381\n",
      "[1600]\ttraining's auc: 1\tvalid_1's auc: 0.954034\n",
      "[1800]\ttraining's auc: 1\tvalid_1's auc: 0.954207\n",
      "[2000]\ttraining's auc: 1\tvalid_1's auc: 0.954318\n",
      "[2200]\ttraining's auc: 1\tvalid_1's auc: 0.954339\n",
      "[2400]\ttraining's auc: 1\tvalid_1's auc: 0.954327\n",
      "Early stopping, best iteration is:\n",
      "[2069]\ttraining's auc: 1\tvalid_1's auc: 0.954323\n",
      "| \u001b[95m 4       \u001b[0m | \u001b[95m 0.9543  \u001b[0m | \u001b[95m 0.4349  \u001b[0m | \u001b[95m 0.3003  \u001b[0m | \u001b[95m 0.1718  \u001b[0m | \u001b[95m 0.04477 \u001b[0m | \u001b[95m 50.22   \u001b[0m | \u001b[95m 599.9   \u001b[0m | \u001b[95m 0.3481  \u001b[0m | \u001b[95m 0.4622  \u001b[0m |\n",
      "Training until validation scores don't improve for 500 rounds.\n",
      "[200]\ttraining's auc: 0.968314\tvalid_1's auc: 0.927092\n",
      "[400]\ttraining's auc: 0.987943\tvalid_1's auc: 0.93923\n",
      "[600]\ttraining's auc: 0.99568\tvalid_1's auc: 0.945904\n",
      "[800]\ttraining's auc: 0.997928\tvalid_1's auc: 0.949307\n",
      "[1000]\ttraining's auc: 0.998823\tvalid_1's auc: 0.950637\n",
      "[1200]\ttraining's auc: 0.99931\tvalid_1's auc: 0.950951\n",
      "[1400]\ttraining's auc: 0.999606\tvalid_1's auc: 0.95096\n",
      "[1600]\ttraining's auc: 0.999777\tvalid_1's auc: 0.950818\n",
      "[1800]\ttraining's auc: 0.999877\tvalid_1's auc: 0.95068\n",
      "Early stopping, best iteration is:\n",
      "[1387]\ttraining's auc: 0.999586\tvalid_1's auc: 0.950987\n",
      "| \u001b[0m 5       \u001b[0m | \u001b[0m 0.951   \u001b[0m | \u001b[0m 0.6452  \u001b[0m | \u001b[0m 0.6276  \u001b[0m | \u001b[0m 14.93   \u001b[0m | \u001b[0m 0.06433 \u001b[0m | \u001b[0m 50.38   \u001b[0m | \u001b[0m 594.7   \u001b[0m | \u001b[0m 0.8433  \u001b[0m | \u001b[0m 0.4074  \u001b[0m |\n",
      "Training until validation scores don't improve for 500 rounds.\n",
      "[200]\ttraining's auc: 0.96749\tvalid_1's auc: 0.928656\n",
      "[400]\ttraining's auc: 0.984585\tvalid_1's auc: 0.939224\n",
      "[600]\ttraining's auc: 0.993716\tvalid_1's auc: 0.945628\n",
      "[800]\ttraining's auc: 0.997703\tvalid_1's auc: 0.949056\n",
      "[1000]\ttraining's auc: 0.999252\tvalid_1's auc: 0.951203\n",
      "[1200]\ttraining's auc: 0.999779\tvalid_1's auc: 0.952416\n",
      "[1400]\ttraining's auc: 0.999939\tvalid_1's auc: 0.953091\n",
      "[1600]\ttraining's auc: 0.999985\tvalid_1's auc: 0.953515\n",
      "[1800]\ttraining's auc: 0.999997\tvalid_1's auc: 0.95384\n",
      "[2000]\ttraining's auc: 0.999999\tvalid_1's auc: 0.953982\n",
      "[2200]\ttraining's auc: 1\tvalid_1's auc: 0.954041\n",
      "[2400]\ttraining's auc: 1\tvalid_1's auc: 0.954036\n",
      "[2600]\ttraining's auc: 1\tvalid_1's auc: 0.954063\n",
      "[2800]\ttraining's auc: 1\tvalid_1's auc: 0.954016\n"
     ]
    },
    {
     "name": "stdout",
     "output_type": "stream",
     "text": [
      "[3000]\ttraining's auc: 1\tvalid_1's auc: 0.954005\n",
      "Early stopping, best iteration is:\n",
      "[2507]\ttraining's auc: 1\tvalid_1's auc: 0.954094\n",
      "| \u001b[0m 6       \u001b[0m | \u001b[0m 0.9541  \u001b[0m | \u001b[0m 0.4898  \u001b[0m | \u001b[0m 0.2145  \u001b[0m | \u001b[0m-0.7224  \u001b[0m | \u001b[0m 0.0819  \u001b[0m | \u001b[0m 50.35   \u001b[0m | \u001b[0m 510.4   \u001b[0m | \u001b[0m 0.7493  \u001b[0m | \u001b[0m 0.6426  \u001b[0m |\n",
      "Training until validation scores don't improve for 500 rounds.\n",
      "[200]\ttraining's auc: 0.968475\tvalid_1's auc: 0.925925\n",
      "[400]\ttraining's auc: 0.987356\tvalid_1's auc: 0.938509\n",
      "[600]\ttraining's auc: 0.995525\tvalid_1's auc: 0.945153\n",
      "[800]\ttraining's auc: 0.998599\tvalid_1's auc: 0.948865\n",
      "[1000]\ttraining's auc: 0.999633\tvalid_1's auc: 0.950837\n",
      "[1200]\ttraining's auc: 0.999915\tvalid_1's auc: 0.951816\n",
      "[1400]\ttraining's auc: 0.999983\tvalid_1's auc: 0.952439\n",
      "[1600]\ttraining's auc: 0.999997\tvalid_1's auc: 0.952873\n",
      "[1800]\ttraining's auc: 1\tvalid_1's auc: 0.953127\n",
      "[2000]\ttraining's auc: 1\tvalid_1's auc: 0.953146\n",
      "[2200]\ttraining's auc: 1\tvalid_1's auc: 0.95325\n",
      "[2400]\ttraining's auc: 1\tvalid_1's auc: 0.953273\n",
      "[2600]\ttraining's auc: 1\tvalid_1's auc: 0.953268\n",
      "[2800]\ttraining's auc: 1\tvalid_1's auc: 0.953303\n",
      "Early stopping, best iteration is:\n",
      "[2477]\ttraining's auc: 1\tvalid_1's auc: 0.953235\n",
      "| \u001b[0m 7       \u001b[0m | \u001b[0m 0.9532  \u001b[0m | \u001b[0m 0.2719  \u001b[0m | \u001b[0m 0.8727  \u001b[0m | \u001b[0m-0.6218  \u001b[0m | \u001b[0m 0.07293 \u001b[0m | \u001b[0m 50.12   \u001b[0m | \u001b[0m 541.2   \u001b[0m | \u001b[0m 0.9172  \u001b[0m | \u001b[0m 0.9699  \u001b[0m |\n",
      "Training until validation scores don't improve for 500 rounds.\n",
      "[200]\ttraining's auc: 0.977664\tvalid_1's auc: 0.930481\n",
      "[400]\ttraining's auc: 0.99008\tvalid_1's auc: 0.939398\n",
      "[600]\ttraining's auc: 0.996551\tvalid_1's auc: 0.945728\n",
      "[800]\ttraining's auc: 0.999009\tvalid_1's auc: 0.94973\n",
      "[1000]\ttraining's auc: 0.999768\tvalid_1's auc: 0.951586\n",
      "[1200]\ttraining's auc: 0.999952\tvalid_1's auc: 0.95251\n",
      "[1400]\ttraining's auc: 0.999992\tvalid_1's auc: 0.953096\n",
      "[1600]\ttraining's auc: 0.999999\tvalid_1's auc: 0.953394\n",
      "[1800]\ttraining's auc: 1\tvalid_1's auc: 0.953618\n",
      "[2000]\ttraining's auc: 1\tvalid_1's auc: 0.953692\n",
      "[2200]\ttraining's auc: 1\tvalid_1's auc: 0.953789\n",
      "[2400]\ttraining's auc: 1\tvalid_1's auc: 0.953798\n",
      "[2600]\ttraining's auc: 1\tvalid_1's auc: 0.953787\n",
      "[2800]\ttraining's auc: 1\tvalid_1's auc: 0.953704\n",
      "Early stopping, best iteration is:\n",
      "[2324]\ttraining's auc: 1\tvalid_1's auc: 0.953789\n",
      "| \u001b[0m 8       \u001b[0m | \u001b[0m 0.9538  \u001b[0m | \u001b[0m 0.2089  \u001b[0m | \u001b[0m 0.6141  \u001b[0m | \u001b[0m-0.8853  \u001b[0m | \u001b[0m 0.03178 \u001b[0m | \u001b[0m 149.0   \u001b[0m | \u001b[0m 599.7   \u001b[0m | \u001b[0m 0.5375  \u001b[0m | \u001b[0m 0.5037  \u001b[0m |\n",
      "Training until validation scores don't improve for 500 rounds.\n",
      "[200]\ttraining's auc: 0.974742\tvalid_1's auc: 0.931805\n",
      "[400]\ttraining's auc: 0.987973\tvalid_1's auc: 0.940325\n",
      "[600]\ttraining's auc: 0.995552\tvalid_1's auc: 0.946509\n",
      "[800]\ttraining's auc: 0.998547\tvalid_1's auc: 0.950168\n",
      "[1000]\ttraining's auc: 0.999597\tvalid_1's auc: 0.952117\n",
      "[1200]\ttraining's auc: 0.999899\tvalid_1's auc: 0.953136\n",
      "[1400]\ttraining's auc: 0.999977\tvalid_1's auc: 0.953729\n",
      "[1600]\ttraining's auc: 0.999995\tvalid_1's auc: 0.954028\n",
      "[1800]\ttraining's auc: 0.999999\tvalid_1's auc: 0.954265\n",
      "[2000]\ttraining's auc: 1\tvalid_1's auc: 0.954291\n",
      "[2200]\ttraining's auc: 1\tvalid_1's auc: 0.954343\n",
      "[2400]\ttraining's auc: 1\tvalid_1's auc: 0.954329\n",
      "[2600]\ttraining's auc: 1\tvalid_1's auc: 0.954327\n",
      "[2800]\ttraining's auc: 1\tvalid_1's auc: 0.954292\n",
      "Early stopping, best iteration is:\n",
      "[2477]\ttraining's auc: 1\tvalid_1's auc: 0.954365\n",
      "| \u001b[95m 9       \u001b[0m | \u001b[95m 0.9544  \u001b[0m | \u001b[95m 0.2403  \u001b[0m | \u001b[95m 0.362   \u001b[0m | \u001b[95m-0.7207  \u001b[0m | \u001b[95m 0.0265  \u001b[0m | \u001b[95m 97.53   \u001b[0m | \u001b[95m 599.7   \u001b[0m | \u001b[95m 0.8004  \u001b[0m | \u001b[95m 0.8776  \u001b[0m |\n",
      "Training until validation scores don't improve for 500 rounds.\n",
      "[200]\ttraining's auc: 0.976799\tvalid_1's auc: 0.931376\n",
      "[400]\ttraining's auc: 0.990189\tvalid_1's auc: 0.940491\n",
      "[600]\ttraining's auc: 0.996963\tvalid_1's auc: 0.946769\n",
      "[800]\ttraining's auc: 0.999259\tvalid_1's auc: 0.950358\n",
      "[1000]\ttraining's auc: 0.999851\tvalid_1's auc: 0.95227\n",
      "[1200]\ttraining's auc: 0.999974\tvalid_1's auc: 0.953185\n",
      "[1400]\ttraining's auc: 0.999996\tvalid_1's auc: 0.953846\n",
      "[1600]\ttraining's auc: 1\tvalid_1's auc: 0.954126\n",
      "[1800]\ttraining's auc: 1\tvalid_1's auc: 0.954251\n",
      "[2000]\ttraining's auc: 1\tvalid_1's auc: 0.954404\n",
      "[2200]\ttraining's auc: 1\tvalid_1's auc: 0.954496\n",
      "[2400]\ttraining's auc: 1\tvalid_1's auc: 0.954524\n",
      "[2600]\ttraining's auc: 1\tvalid_1's auc: 0.954499\n",
      "Early stopping, best iteration is:\n",
      "[2152]\ttraining's auc: 1\tvalid_1's auc: 0.9545\n",
      "| \u001b[95m 10      \u001b[0m | \u001b[95m 0.9545  \u001b[0m | \u001b[95m 0.8379  \u001b[0m | \u001b[95m 0.6094  \u001b[0m | \u001b[95m-0.7158  \u001b[0m | \u001b[95m 0.04383 \u001b[0m | \u001b[95m 103.1   \u001b[0m | \u001b[95m 599.5   \u001b[0m | \u001b[95m 0.5204  \u001b[0m | \u001b[95m 0.4003  \u001b[0m |\n",
      "=========================================================================================================================\n"
     ]
    }
   ],
   "source": [
    "print('-' * 130)\n",
    "\n",
    "with warnings.catch_warnings():\n",
    "    warnings.filterwarnings('ignore')\n",
    "    LGB_BO.maximize(init_points=init_points, n_iter=n_iter, acq='ucb', xi=0.0, alpha=1e-6)"
   ]
  },
  {
   "cell_type": "code",
   "execution_count": 48,
   "metadata": {},
   "outputs": [],
   "source": [
    "params = {'num_leaves': int(LGB_BO.max['params']['num_leaves']),\n",
    "          'min_child_weight': LGB_BO.max['params']['min_child_weight'],\n",
    "          'feature_fraction': LGB_BO.max['params']['feature_fraction'],\n",
    "          'bagging_fraction': LGB_BO.max['params']['bagging_fraction'],\n",
    "          'min_data_in_leaf': int(LGB_BO.max['params']['min_data_in_leaf']),\n",
    "          'objective': 'binary',\n",
    "          'tree_learner':'serial',\n",
    "          'max_depth': int(LGB_BO.max['params']['max_depth']),\n",
    "          'max_bin':255,\n",
    "          'learning_rate': 0.005,\n",
    "          \"boosting_type\": \"gbdt\",\n",
    "          \"bagging_seed\": 11,\n",
    "          \"metric\": 'auc',\n",
    "          \"verbosity\": -1,\n",
    "          'reg_alpha': LGB_BO.max['params']['reg_alpha'],\n",
    "          'reg_lambda':LGB_BO.max['params']['reg_lambda'],\n",
    "          'random_state': 47,\n",
    "         }"
   ]
  },
  {
   "cell_type": "code",
   "execution_count": 49,
   "metadata": {},
   "outputs": [
    {
     "data": {
      "text/plain": [
       "{'num_leaves': 599,\n",
       " 'min_child_weight': 0.04383122500221624,\n",
       " 'feature_fraction': 0.6094220371432097,\n",
       " 'bagging_fraction': 0.83785189957831,\n",
       " 'min_data_in_leaf': 103,\n",
       " 'objective': 'binary',\n",
       " 'tree_learner': 'serial',\n",
       " 'max_depth': 0,\n",
       " 'max_bin': 255,\n",
       " 'learning_rate': 0.005,\n",
       " 'boosting_type': 'gbdt',\n",
       " 'bagging_seed': 11,\n",
       " 'metric': 'auc',\n",
       " 'verbosity': -1,\n",
       " 'reg_alpha': 0.5203859289816002,\n",
       " 'reg_lambda': 0.4003223316564921,\n",
       " 'random_state': 47}"
      ]
     },
     "execution_count": 49,
     "metadata": {},
     "output_type": "execute_result"
    }
   ],
   "source": [
    "params"
   ]
  },
  {
   "cell_type": "code",
   "execution_count": 50,
   "metadata": {},
   "outputs": [],
   "source": [
    "NFOLDS = 5\n",
    "folds = GroupKFold(n_splits=NFOLDS)"
   ]
  },
  {
   "cell_type": "code",
   "execution_count": 51,
   "metadata": {},
   "outputs": [
    {
     "name": "stdout",
     "output_type": "stream",
     "text": [
      "Training until validation scores don't improve for 500 rounds.\n",
      "[200]\ttraining's auc: 0.976298\tvalid_1's auc: 0.88929\n",
      "[400]\ttraining's auc: 0.989678\tvalid_1's auc: 0.898682\n",
      "[600]\ttraining's auc: 0.996494\tvalid_1's auc: 0.90402\n",
      "[800]\ttraining's auc: 0.999001\tvalid_1's auc: 0.907428\n",
      "[1000]\ttraining's auc: 0.999756\tvalid_1's auc: 0.909792\n",
      "[1200]\ttraining's auc: 0.999948\tvalid_1's auc: 0.911361\n",
      "[1400]\ttraining's auc: 0.999991\tvalid_1's auc: 0.912468\n",
      "[1600]\ttraining's auc: 0.999999\tvalid_1's auc: 0.913157\n",
      "[1800]\ttraining's auc: 1\tvalid_1's auc: 0.913699\n",
      "[2000]\ttraining's auc: 1\tvalid_1's auc: 0.914136\n",
      "[2200]\ttraining's auc: 1\tvalid_1's auc: 0.914475\n",
      "[2400]\ttraining's auc: 1\tvalid_1's auc: 0.91465\n",
      "[2600]\ttraining's auc: 1\tvalid_1's auc: 0.914862\n",
      "Early stopping, best iteration is:\n",
      "[2276]\ttraining's auc: 1\tvalid_1's auc: 0.914444\n",
      "Fold 1 | AUC: 0.9144068952817305\n",
      "Training until validation scores don't improve for 500 rounds.\n",
      "[200]\ttraining's auc: 0.975504\tvalid_1's auc: 0.924297\n",
      "[400]\ttraining's auc: 0.988959\tvalid_1's auc: 0.933864\n",
      "[600]\ttraining's auc: 0.996198\tvalid_1's auc: 0.940044\n",
      "[800]\ttraining's auc: 0.998943\tvalid_1's auc: 0.943885\n",
      "[1000]\ttraining's auc: 0.999766\tvalid_1's auc: 0.945783\n",
      "[1200]\ttraining's auc: 0.999954\tvalid_1's auc: 0.946884\n",
      "[1400]\ttraining's auc: 0.999992\tvalid_1's auc: 0.947479\n",
      "[1600]\ttraining's auc: 0.999999\tvalid_1's auc: 0.947895\n",
      "[1800]\ttraining's auc: 1\tvalid_1's auc: 0.94808\n",
      "[2000]\ttraining's auc: 1\tvalid_1's auc: 0.948168\n",
      "[2200]\ttraining's auc: 1\tvalid_1's auc: 0.948206\n",
      "[2400]\ttraining's auc: 1\tvalid_1's auc: 0.948122\n",
      "[2600]\ttraining's auc: 1\tvalid_1's auc: 0.948057\n",
      "Early stopping, best iteration is:\n",
      "[2233]\ttraining's auc: 1\tvalid_1's auc: 0.94822\n",
      "Fold 2 | AUC: 0.9482105588692714\n",
      "Training until validation scores don't improve for 500 rounds.\n",
      "[200]\ttraining's auc: 0.972505\tvalid_1's auc: 0.918325\n",
      "[400]\ttraining's auc: 0.987363\tvalid_1's auc: 0.928418\n",
      "[600]\ttraining's auc: 0.995733\tvalid_1's auc: 0.936271\n",
      "[800]\ttraining's auc: 0.998791\tvalid_1's auc: 0.940121\n",
      "[1000]\ttraining's auc: 0.999723\tvalid_1's auc: 0.94235\n",
      "[1200]\ttraining's auc: 0.999943\tvalid_1's auc: 0.943752\n",
      "[1400]\ttraining's auc: 0.99999\tvalid_1's auc: 0.944688\n",
      "[1600]\ttraining's auc: 0.999999\tvalid_1's auc: 0.945172\n",
      "[1800]\ttraining's auc: 1\tvalid_1's auc: 0.945716\n",
      "[2000]\ttraining's auc: 1\tvalid_1's auc: 0.946008\n",
      "[2200]\ttraining's auc: 1\tvalid_1's auc: 0.946259\n",
      "[2400]\ttraining's auc: 1\tvalid_1's auc: 0.94649\n",
      "[2600]\ttraining's auc: 1\tvalid_1's auc: 0.94669\n",
      "[2800]\ttraining's auc: 1\tvalid_1's auc: 0.946795\n",
      "Early stopping, best iteration is:\n",
      "[2323]\ttraining's auc: 1\tvalid_1's auc: 0.946418\n",
      "Fold 3 | AUC: 0.9464325582355806\n",
      "Training until validation scores don't improve for 500 rounds.\n",
      "[200]\ttraining's auc: 0.972882\tvalid_1's auc: 0.915175\n",
      "[400]\ttraining's auc: 0.987588\tvalid_1's auc: 0.927553\n",
      "[600]\ttraining's auc: 0.995641\tvalid_1's auc: 0.93509\n",
      "[800]\ttraining's auc: 0.998745\tvalid_1's auc: 0.939731\n",
      "[1000]\ttraining's auc: 0.999707\tvalid_1's auc: 0.941756\n",
      "[1200]\ttraining's auc: 0.999937\tvalid_1's auc: 0.942999\n",
      "[1400]\ttraining's auc: 0.999988\tvalid_1's auc: 0.943641\n",
      "[1600]\ttraining's auc: 0.999998\tvalid_1's auc: 0.94391\n",
      "[1800]\ttraining's auc: 1\tvalid_1's auc: 0.943966\n",
      "[2000]\ttraining's auc: 1\tvalid_1's auc: 0.943987\n",
      "[2200]\ttraining's auc: 1\tvalid_1's auc: 0.943846\n",
      "Early stopping, best iteration is:\n",
      "[1886]\ttraining's auc: 1\tvalid_1's auc: 0.944076\n",
      "Fold 4 | AUC: 0.9440639132146678\n",
      "Training until validation scores don't improve for 500 rounds.\n",
      "[200]\ttraining's auc: 0.976799\tvalid_1's auc: 0.931376\n",
      "[400]\ttraining's auc: 0.990189\tvalid_1's auc: 0.940491\n",
      "[600]\ttraining's auc: 0.996963\tvalid_1's auc: 0.946769\n",
      "[800]\ttraining's auc: 0.999259\tvalid_1's auc: 0.950358\n",
      "[1000]\ttraining's auc: 0.999851\tvalid_1's auc: 0.95227\n",
      "[1200]\ttraining's auc: 0.999974\tvalid_1's auc: 0.953185\n",
      "[1400]\ttraining's auc: 0.999996\tvalid_1's auc: 0.953846\n",
      "[1600]\ttraining's auc: 1\tvalid_1's auc: 0.954126\n",
      "[1800]\ttraining's auc: 1\tvalid_1's auc: 0.954251\n",
      "[2000]\ttraining's auc: 1\tvalid_1's auc: 0.954404\n",
      "[2200]\ttraining's auc: 1\tvalid_1's auc: 0.954496\n",
      "[2400]\ttraining's auc: 1\tvalid_1's auc: 0.954524\n",
      "[2600]\ttraining's auc: 1\tvalid_1's auc: 0.954499\n",
      "Early stopping, best iteration is:\n",
      "[2152]\ttraining's auc: 1\tvalid_1's auc: 0.9545\n",
      "Fold 5 | AUC: 0.9544953537542902\n",
      "\n",
      "Mean AUC = 0.941521855871108\n",
      "Out of folds AUC = 0.9426575969312742\n"
     ]
    }
   ],
   "source": [
    "columns = X2.columns\n",
    "splits = folds.split(X2, y, groups=split_groups)\n",
    "y_preds = np.zeros(X_test2.shape[0])\n",
    "y_oof = np.zeros(X2.shape[0])\n",
    "score = 0\n",
    "\n",
    "feature_importances = pd.DataFrame()\n",
    "feature_importances['feature'] = columns\n",
    "  \n",
    "for fold_n, (train_index, valid_index) in enumerate(splits):\n",
    "    X_train, X_valid = X2[columns].iloc[train_index], X2[columns].iloc[valid_index]\n",
    "    y_train, y_valid = y.iloc[train_index], y.iloc[valid_index]\n",
    "    \n",
    "    dtrain = lgb.Dataset(X_train, label=y_train)\n",
    "    dvalid = lgb.Dataset(X_valid, label=y_valid)\n",
    "\n",
    "    clf = lgb.train(params, dtrain, 10000, valid_sets = [dtrain, dvalid], verbose_eval=200, early_stopping_rounds=500)\n",
    "    \n",
    "    feature_importances[f'fold_{fold_n + 1}'] = clf.feature_importance()\n",
    "    \n",
    "    y_pred_valid = clf.predict(X_valid)\n",
    "    y_oof[valid_index] = y_pred_valid\n",
    "    print(f\"Fold {fold_n + 1} | AUC: {roc_auc_score(y_valid, y_pred_valid)}\")\n",
    "    \n",
    "    score += roc_auc_score(y_valid, y_pred_valid) / NFOLDS\n",
    "    y_preds += clf.predict(X_test2) / NFOLDS\n",
    "    \n",
    "    del X_train, X_valid, y_train, y_valid\n",
    "    gc.collect()\n",
    "    \n",
    "print(f\"\\nMean AUC = {score}\")\n",
    "print(f\"Out of folds AUC = {roc_auc_score(y, y_oof)}\")"
   ]
  },
  {
   "cell_type": "code",
   "execution_count": 52,
   "metadata": {},
   "outputs": [],
   "source": [
    "sub = pd.read_csv('sample_submission.csv')\n",
    "sub['isFraud'] = y_preds\n",
    "sub.to_csv(\"lgb_final4_bayes.csv\", index=False) #0.9496"
   ]
  },
  {
   "cell_type": "code",
   "execution_count": null,
   "metadata": {},
   "outputs": [],
   "source": []
  },
  {
   "cell_type": "code",
   "execution_count": null,
   "metadata": {},
   "outputs": [],
   "source": []
  }
 ],
 "metadata": {
  "kernelspec": {
   "display_name": "Python 3",
   "language": "python",
   "name": "python3"
  },
  "language_info": {
   "codemirror_mode": {
    "name": "ipython",
    "version": 3
   },
   "file_extension": ".py",
   "mimetype": "text/x-python",
   "name": "python",
   "nbconvert_exporter": "python",
   "pygments_lexer": "ipython3",
   "version": "3.7.3"
  }
 },
 "nbformat": 4,
 "nbformat_minor": 2
}
